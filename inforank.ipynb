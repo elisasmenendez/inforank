{
  "nbformat": 4,
  "nbformat_minor": 0,
  "metadata": {
    "colab": {
      "name": "inforank.ipynb",
      "provenance": [],
      "collapsed_sections": [],
      "mount_file_id": "1-vKhs3_pj0IXBTZZs26EykV7140Zkvwl",
      "authorship_tag": "ABX9TyMWdKLWKB/w2tM8Lb0KCaop",
      "include_colab_link": true
    },
    "kernelspec": {
      "name": "python3",
      "display_name": "Python 3"
    }
  },
  "cells": [
    {
      "cell_type": "markdown",
      "metadata": {
        "id": "view-in-github",
        "colab_type": "text"
      },
      "source": [
        "<a href=\"https://colab.research.google.com/github/elisasmenendez/inforank/blob/master/inforank.ipynb\" target=\"_parent\"><img src=\"https://colab.research.google.com/assets/colab-badge.svg\" alt=\"Open In Colab\"/></a>"
      ]
    },
    {
      "cell_type": "markdown",
      "metadata": {
        "id": "1qheZC0idJm2",
        "colab_type": "text"
      },
      "source": [
        "# Context"
      ]
    },
    {
      "cell_type": "markdown",
      "metadata": {
        "id": "w1WvZD4UbOVG",
        "colab_type": "text"
      },
      "source": [
        "A key contributor to the success of keyword search systems is a ranking mechanism that considers the importance of the retrieved documents. The notion of importance in graphs is typically computed using centrality measures that highly depend on the degree of the nodes, such as PageRank. However, in RDF graphs, the notion of importance is not necessarily related to the node degree.\n",
        "\n",
        "To solve this problem, we propose a novel family of importance measures for RDF graphs, collectively called InfoRank, that combine three intuitions: (I) “important things have lots of information about them”; (II) “important things are surrounded by other important things”; (III) “few important relations (e.g. friends) are better than many unimportant relations (e.g. acquaintances)”.\n",
        "\n",
        "In this implementation, we show how to compute InfoRank and PageRank using SPARQL queries since RDF graphs are typically stored in triplestores. We use RDFLib to simulate this environment."
      ]
    },
    {
      "cell_type": "markdown",
      "metadata": {
        "id": "FkELhAKDeKRH",
        "colab_type": "text"
      },
      "source": [
        "# Running Example"
      ]
    },
    {
      "cell_type": "markdown",
      "metadata": {
        "id": "wupEYgXxeNp5",
        "colab_type": "text"
      },
      "source": [
        "To exemplify the implementation steps, consider the simple graph shown in the following image with IRIs denoted in oval and literals denoted in dashed boxes (Colab image is not working).\n",
        "\n",
        "https://drive.google.com/uc?export=view&id=1NHAl72vWPRlFOiQet9bF5--VjxsQStIZ\n",
        "\n",
        "Consider that the graph also includes the following triples: \n",
        " (X, rdf:type, rdfs:Class), \n",
        " (Y, rdf:type, rdfs:Class), \n",
        " (Z, rdf:type, rdfs:Class)\n",
        " (x1, rdf:type, X), \n",
        " (x2, rdf:type, X), \n",
        " (y1, rdf:type, Y), \n",
        " (y2, rdf:type, Y),\n",
        " (z1, rdf:type, Z), \n",
        " (z2, rdf:type, Z), … (z10, rdf:type, Z)\n",
        "\n",
        "Let's see how to install RDFLib and load this data.\n"
      ]
    },
    {
      "cell_type": "code",
      "metadata": {
        "id": "gbutqoZ7EYid",
        "colab_type": "code",
        "colab": {}
      },
      "source": [
        "pip install rdflib"
      ],
      "execution_count": null,
      "outputs": []
    },
    {
      "cell_type": "code",
      "metadata": {
        "id": "C89soOysERBq",
        "colab_type": "code",
        "colab": {}
      },
      "source": [
        "import rdflib\n",
        "\n",
        "g = rdflib.Graph()\n",
        "g.parse(\"https://raw.githubusercontent.com/elisasmenendez/inforank/master/example.ttl\", format=\"turtle\")\n",
        "\n",
        "g.bind(\"ex\", \"http://example.com/\")\n",
        "g.bind(\"quira\", \"http://quira.com/\")"
      ],
      "execution_count": null,
      "outputs": []
    },
    {
      "cell_type": "markdown",
      "metadata": {
        "id": "jXyIpcXLL9lR",
        "colab_type": "text"
      },
      "source": [
        "Here is how we print all triples."
      ]
    },
    {
      "cell_type": "code",
      "metadata": {
        "id": "s3ieuQZ4B-Gn",
        "colab_type": "code",
        "colab": {}
      },
      "source": [
        "qres = g.query(\"select ?s ?p ?o where {?s ?p ?o }\",)\n",
        "\n",
        "for row in qres:\n",
        "  print (\"%s %s %s\" % row)"
      ],
      "execution_count": null,
      "outputs": []
    },
    {
      "cell_type": "markdown",
      "metadata": {
        "id": "T7dsj0XSdn80",
        "colab_type": "text"
      },
      "source": [
        "# Instance Informativeness"
      ]
    },
    {
      "cell_type": "markdown",
      "metadata": {
        "id": "7PH4WILESqa5",
        "colab_type": "text"
      },
      "source": [
        "As the first step to achieve the InfoRank score, we compute the absolute informativeness of instances by counting their literals. Note that, since our graph contains schema information, we apply a graph pattern that requires that variable ?r be bound only to instances of some class. We also assume that are no blank nodes. Furthermore, since some instances may not have literals, we need to make the count of literals optional, so if there is no bound, the value returned is 0. "
      ]
    },
    {
      "cell_type": "code",
      "metadata": {
        "id": "yCOCgj52a_i7",
        "colab_type": "code",
        "colab": {}
      },
      "source": [
        "# Computing the informativesses of instances\n",
        "\n",
        "g.update(\"\"\"\n",
        "insert { ?r quira:infoness ?infoness }\n",
        "where { \n",
        "  select ?r (count(?o) as ?infoness)\n",
        "  where {\n",
        "    ?r rdf:type/rdf:type rdfs:Class .\n",
        "    OPTIONAL {\n",
        "      ?r ?p ?o . \n",
        "      filter ( isLiteral(?o) )  \n",
        "    }\n",
        "  }\n",
        "  group by ?r \n",
        "}\n",
        "\"\"\")"
      ],
      "execution_count": null,
      "outputs": []
    },
    {
      "cell_type": "markdown",
      "metadata": {
        "id": "kIPPt_fbekrf",
        "colab_type": "text"
      },
      "source": [
        "Let's check the results"
      ]
    },
    {
      "cell_type": "code",
      "metadata": {
        "id": "TEFvWyOwekBx",
        "colab_type": "code",
        "colab": {}
      },
      "source": [
        "qres = g.query(\"\"\"\n",
        "select ?s ?o\n",
        "where { ?s quira:infoness ?o }  \n",
        "order by ?s  \n",
        "\"\"\")\n",
        "\n",
        "for row in qres:\n",
        "  print (\"%s %s\" % row)"
      ],
      "execution_count": null,
      "outputs": []
    },
    {
      "cell_type": "markdown",
      "metadata": {
        "id": "RAsEFzzOdMNY",
        "colab_type": "text"
      },
      "source": [
        "# InfoRank - Ranking Schema Data"
      ]
    },
    {
      "cell_type": "markdown",
      "metadata": {
        "id": "aszDmiJSQyhe",
        "colab_type": "text"
      },
      "source": [
        "Now, we compute the inforank score of classes considering the informativeness of their instances, to capture the idea that “important classes usually have informative instances”."
      ]
    },
    {
      "cell_type": "code",
      "metadata": {
        "id": "vFzec__bRG9V",
        "colab_type": "code",
        "colab": {}
      },
      "source": [
        "# Computing the InfoRank of classes\n",
        "g.update(\"\"\"\n",
        "insert { ?c quira:inforank ?inforank }\n",
        "where { \n",
        "  select ?c (max(?infoness) as ?inforank)\n",
        "  where { \n",
        "    ?c rdf:type rdfs:Class .\n",
        "    ?r rdf:type ?c .\n",
        "    ?r quira:infoness ?infoness .\n",
        "  }\n",
        "  group by ?c\n",
        "}\n",
        "\"\"\")"
      ],
      "execution_count": null,
      "outputs": []
    },
    {
      "cell_type": "markdown",
      "metadata": {
        "id": "8YpfyvI5f8FS",
        "colab_type": "text"
      },
      "source": [
        "And we can rank the classes using the descending order of their InfoRank score."
      ]
    },
    {
      "cell_type": "code",
      "metadata": {
        "id": "ApCE1VGXf7Ff",
        "colab_type": "code",
        "colab": {}
      },
      "source": [
        "qres = g.query(\"\"\"\n",
        "select ?c ?inforank\n",
        "where { \n",
        "  ?c rdf:type rdfs:Class . \n",
        "  ?c quira:inforank ?inforank \n",
        "}  \n",
        "order by desc(?inforank)\n",
        "\"\"\")\n",
        "\n",
        "for row in qres:\n",
        "  print (\"%s %s\" % row)"
      ],
      "execution_count": null,
      "outputs": []
    },
    {
      "cell_type": "markdown",
      "metadata": {
        "id": "9TAJVVI5gQfh",
        "colab_type": "text"
      },
      "source": [
        "Likewise, we compute the InfoRank score of object properties based on the informativeness of instances, to capture the idea that “important properties are usually those connecting informative instances”. "
      ]
    },
    {
      "cell_type": "code",
      "metadata": {
        "id": "hyYisfW6RHm6",
        "colab_type": "code",
        "colab": {}
      },
      "source": [
        "# Computing the InfoRank of object properties\n",
        "g.update(\"\"\"\n",
        "insert { ?p quira:inforank ?inforank }\n",
        "where { \n",
        "  select ?p (max(?info_r + ?info_s) as ?inforank)\n",
        "  where { \n",
        "    ?r ?p ?s .\n",
        "    ?r rdf:type/rdf:type rdfs:Class .\n",
        "    ?s rdf:type/rdf:type rdfs:Class .\n",
        "    ?r quira:infoness ?info_r .\n",
        "    ?s quira:infoness ?info_s .\n",
        "  }\n",
        "  group by ?p\n",
        "}\n",
        "\"\"\")"
      ],
      "execution_count": null,
      "outputs": []
    },
    {
      "cell_type": "markdown",
      "metadata": {
        "id": "cARf0Hukhnwq",
        "colab_type": "text"
      },
      "source": [
        "And we can rank the object properties using the descending order of their InfoRank score."
      ]
    },
    {
      "cell_type": "code",
      "metadata": {
        "id": "Oml5V1Aqhm1m",
        "colab_type": "code",
        "colab": {}
      },
      "source": [
        "qres = g.query(\"\"\"\n",
        "select distinct ?p ?inforank\n",
        "where { \n",
        "  ?s ?p ?o .\n",
        "  ?p quira:inforank ?inforank .\n",
        "}  \n",
        "order by desc(?inforank)\n",
        "\"\"\")\n",
        "\n",
        "for row in qres:\n",
        "  print (\"%s %s\" % row)"
      ],
      "execution_count": null,
      "outputs": []
    },
    {
      "cell_type": "markdown",
      "metadata": {
        "id": "9KhxcDFVipDm",
        "colab_type": "text"
      },
      "source": [
        "# InfoRank - Ranking Data"
      ]
    },
    {
      "cell_type": "markdown",
      "metadata": {
        "id": "A6yQJf0VQk8j",
        "colab_type": "text"
      },
      "source": [
        "Note that we used only Intuition I in our strategies to rank metadata resources. However, we propose a combination of the three intuitions to rank the data itself, that is, the instances. \n",
        "\n",
        "To do that, we first execute a weighted version of PageRank using the InfoRank score of properties as the edge weight. Hence, to help achieve a normalized weight, we first compute an auxiliary property named sumInfo."
      ]
    },
    {
      "cell_type": "code",
      "metadata": {
        "id": "6jUWbJA2TMEy",
        "colab_type": "code",
        "colab": {}
      },
      "source": [
        "# Computing sumInfo\n",
        "g.update(\"\"\"\n",
        "insert { ?r quira:sumInfo ?sumInfo }\n",
        "where {\n",
        "  select ?r (sum(?info) as ?sumInfo)\n",
        "  where { \n",
        "    { select *\n",
        "      where {\n",
        "        ?r ?q ?t .\n",
        "        ?q quira:inforank ?info .\n",
        "      }\n",
        "    }\n",
        "    UNION\n",
        "    { select *\n",
        "      where {\n",
        "        ?t ?q ?r .\n",
        "        ?q quira:inforank ?info .\n",
        "      }\n",
        "    }\n",
        "  }\n",
        "  group by ?r\n",
        "}\n",
        "\"\"\")"
      ],
      "execution_count": null,
      "outputs": []
    },
    {
      "cell_type": "markdown",
      "metadata": {
        "id": "KASyn_TkTYZJ",
        "colab_type": "text"
      },
      "source": [
        "Now, we initialize the PageRank scores with *1/n*, in which *n* is the number of instances in the graph."
      ]
    },
    {
      "cell_type": "code",
      "metadata": {
        "id": "ZGSmxxV3lxOL",
        "colab_type": "code",
        "colab": {}
      },
      "source": [
        "# Counting the number of instances in the graph\n",
        "qres = g.query(\"\"\"\n",
        "select (count(*) as ?n)\n",
        "where { ?r rdf:type/rdf:type rdfs:Class }\n",
        "\"\"\")\n",
        "n = qres.bindings[0]['n']\n",
        "last = 'score1'\n",
        "curr = 'score2'\n",
        "\n",
        "# Initializing all scores with 1/N\n",
        "g.update(\"\"\"\n",
        "insert { ?r quira:%s ?score }\n",
        "where { \n",
        "  ?r rdf:type/rdf:type rdfs:Class .\n",
        "  BIND( (1/%s) as ?score )\n",
        "}\n",
        "\"\"\" % (last,n) )"
      ],
      "execution_count": null,
      "outputs": []
    },
    {
      "cell_type": "markdown",
      "metadata": {
        "id": "Gp8-smScmgqa",
        "colab_type": "text"
      },
      "source": [
        "Finally, we execute the Power Iteration Method to compute PageRank."
      ]
    },
    {
      "cell_type": "code",
      "metadata": {
        "id": "74yBjjLzmhFg",
        "colab_type": "code",
        "colab": {}
      },
      "source": [
        "# This query simulates an iteration with a dumping factor of 0.85  \n",
        "queryIter = \"\"\"\n",
        "insert { ?r quira:%s ?score }\n",
        "where {\n",
        "  select ?r (( ((1-0.85)/%s) + \n",
        "               (0.85 * sum(?score * (?infoP/?sumInfo) )) ) as ?score)\n",
        "  where { \n",
        "    { select *\n",
        "      where {\n",
        "        ?r rdf:type/rdf:type rdfs:Class .\n",
        "        ?s ?p ?r .\n",
        "        ?p quira:inforank ?info .\n",
        "        ?s quira:%s ?score .\n",
        "        ?p quira:inforank ?infoP .\n",
        "        ?s quira:sumInfo ?sumInfo .\n",
        "      }\n",
        "    }\n",
        "    UNION\n",
        "    { select *\n",
        "      where {\n",
        "        ?r rdf:type/rdf:type rdfs:Class .\n",
        "        ?r ?p ?s .\n",
        "        ?p quira:inforank ?info .\n",
        "        ?s quira:%s ?score .\n",
        "        ?p quira:inforank ?infoP .\n",
        "        ?s quira:sumInfo ?sumInfo .\n",
        "      }\n",
        "    } \n",
        "  }\n",
        "  group by ?r\n",
        "}\n",
        "\"\"\"\n",
        "\n",
        "# This query simulates the convergence calculation \n",
        "queryConv = \"\"\"\n",
        "select (sum(abs(?curr - ?last)) as ?conv)\n",
        "where { \n",
        "  ?r quira:%s ?curr .\n",
        "  ?r quira:%s ?last . \n",
        "}\n",
        "\"\"\"\n",
        "\n",
        "# Executing the Power Iteration method\n",
        "tol = 1.0e-4\n",
        "max = 100\n",
        "converged = 0\n",
        "\n",
        "for i in range(max-1):\n",
        "  \n",
        "  # Iterating\n",
        "  g.update(queryIter % (curr, n, last, last))\n",
        "  \n",
        "  # Checking convergence\n",
        "  qres = g.query(queryConv % (curr, last))\n",
        "  conv = float(qres.bindings[0]['conv'])\n",
        "\n",
        "  # print(\"Iteration %s - Convergence %s\" % (i, conv))  \n",
        "\n",
        "  if conv < tol:\n",
        "    converged = 1 \n",
        "    g.update(\"insert { ?r quira:pagerankW ?score } where { ?r quira:%s ?score }\" % curr)\n",
        "    print(\"Converged after %s iterations\" % i)\n",
        "    \n",
        "    # Let's do some cleaning\n",
        "    g.update(\"delete where { ?s quira:%s ?o }\" % last)\n",
        "    g.update(\"delete where { ?s quira:%s ?o }\" % curr)\n",
        "    g.update(\"delete where { ?s quira:sumInfo ?o }\")\n",
        "    break\n",
        "\n",
        "  else:\n",
        "    g.update(\"delete where { ?s quira:%s ?o }\" % last)\n",
        "    temp = last\n",
        "    last = curr\n",
        "    curr = temp\n",
        "\n",
        "if converged == 0:\n",
        "  print(\"Failed to converge after %s iterations\" % i) "
      ],
      "execution_count": null,
      "outputs": []
    },
    {
      "cell_type": "markdown",
      "metadata": {
        "id": "osiIuidVDUbg",
        "colab_type": "text"
      },
      "source": [
        "Let's check the result. "
      ]
    },
    {
      "cell_type": "code",
      "metadata": {
        "id": "1Hlp8wC4DT9q",
        "colab_type": "code",
        "colab": {}
      },
      "source": [
        "qres = g.query(\"\"\"\n",
        "select ?r ?score\n",
        "where {?r quira:pagerankW ?score }  \n",
        "order by desc(?score)\n",
        "\"\"\")\n",
        "\n",
        "for row in qres:\n",
        "  print (\"%s %s\" % row)"
      ],
      "execution_count": null,
      "outputs": []
    },
    {
      "cell_type": "markdown",
      "metadata": {
        "id": "uxZLI-lSDsZq",
        "colab_type": "text"
      },
      "source": [
        "Compare with the result given by Networkx."
      ]
    },
    {
      "cell_type": "code",
      "metadata": {
        "id": "2r9U128TDrfG",
        "colab_type": "code",
        "colab": {}
      },
      "source": [
        "import networkx as nx\n",
        "import operator\n",
        "\n",
        "edges = [\n",
        "  ('X1', 'Y1', 8),\n",
        "  ('X2', 'Y1', 8),\n",
        "  ('Y2', 'Y1', 7),\n",
        "  ('Z1', 'Y2', 2),\n",
        "  ('Z2', 'Y2', 2),\n",
        "  ('Z3', 'Y2', 2),\n",
        "  ('Z4', 'Y2', 2),\n",
        "  ('Z5', 'Y2', 2),\n",
        "  ('Z6', 'Y2', 2),\n",
        "  ('Z7', 'Y2', 2),\n",
        "  ('Z8', 'Y2', 2),\n",
        "  ('Z9', 'Y2', 2),\n",
        "  ('Z10', 'Y2', 2)]\n",
        "\n",
        "G = nx.Graph()  \n",
        "G.add_weighted_edges_from(edges)  \n",
        "\n",
        "res = nx.pagerank(G)\n",
        "\n",
        "sorted_res = sorted(res.items(), key=operator.itemgetter(1), reverse=True)  \n",
        "for i,j in sorted_res:\n",
        "  print(i + \" - \" + str(j))\n"
      ],
      "execution_count": null,
      "outputs": []
    },
    {
      "cell_type": "markdown",
      "metadata": {
        "id": "TbdZfW4eDp7N",
        "colab_type": "text"
      },
      "source": [
        "Note that, although we use the InfoRank of properties to weight the edges, instance Y2 still gets a higher score than Y1. Hence, as the final step, we combine the weighted PageRank with the informativeness of instances. "
      ]
    },
    {
      "cell_type": "code",
      "metadata": {
        "id": "gXk3UYgiGQU5",
        "colab_type": "code",
        "colab": {}
      },
      "source": [
        "g.update(\"\"\"\n",
        "insert { ?r quira:inforank ?info }    \n",
        "where {\n",
        "  select ?r ((?score * ?infoness) as ?info)\n",
        "  where {\n",
        "    ?r quira:pagerankW ?score .\n",
        "    ?r quira:infoness ?infoness .\n",
        "  }\n",
        "}\n",
        "\"\"\")"
      ],
      "execution_count": null,
      "outputs": []
    },
    {
      "cell_type": "markdown",
      "metadata": {
        "id": "RLMoJS9kIVOg",
        "colab_type": "text"
      },
      "source": [
        "And the final result is..."
      ]
    },
    {
      "cell_type": "code",
      "metadata": {
        "id": "1R5QCajJIVvN",
        "colab_type": "code",
        "colab": {}
      },
      "source": [
        "qres = g.query(\"\"\"\n",
        "select ?r ?score\n",
        "where { \n",
        "  ?r rdf:type/rdf:type rdfs:Class .\n",
        "  ?r quira:inforank ?score .\n",
        "}  \n",
        "order by desc(?score)\n",
        "\"\"\")\n",
        "\n",
        "for row in qres:\n",
        "  print (\"%s %s\" % row)"
      ],
      "execution_count": null,
      "outputs": []
    }
  ]
}