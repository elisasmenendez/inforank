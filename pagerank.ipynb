{
  "nbformat": 4,
  "nbformat_minor": 0,
  "metadata": {
    "colab": {
      "name": "pagerank.ipynb",
      "provenance": [],
      "collapsed_sections": [],
      "mount_file_id": "1-vKhs3_pj0IXBTZZs26EykV7140Zkvwl",
      "authorship_tag": "ABX9TyNRsf2DA24UL2/SfRl0j5B+",
      "include_colab_link": true
    },
    "kernelspec": {
      "name": "python3",
      "display_name": "Python 3"
    }
  },
  "cells": [
    {
      "cell_type": "markdown",
      "metadata": {
        "id": "view-in-github",
        "colab_type": "text"
      },
      "source": [
        "<a href=\"https://colab.research.google.com/github/elisasmenendez/inforank/blob/master/pagerank.ipynb\" target=\"_parent\"><img src=\"https://colab.research.google.com/assets/colab-badge.svg\" alt=\"Open In Colab\"/></a>"
      ]
    },
    {
      "cell_type": "markdown",
      "metadata": {
        "id": "1qheZC0idJm2",
        "colab_type": "text"
      },
      "source": [
        "# PageRank with SPARQL Queries"
      ]
    },
    {
      "cell_type": "markdown",
      "metadata": {
        "id": "w1WvZD4UbOVG",
        "colab_type": "text"
      },
      "source": [
        "In the RDF world, we typically store graphs in triplestores with SPARQL endpoints. Hence, in this implementation, we show how to compute the classic PageRank score using SPARQL queries."
      ]
    },
    {
      "cell_type": "markdown",
      "metadata": {
        "id": "FkELhAKDeKRH",
        "colab_type": "text"
      },
      "source": [
        "# Running Example"
      ]
    },
    {
      "cell_type": "markdown",
      "metadata": {
        "id": "wupEYgXxeNp5",
        "colab_type": "text"
      },
      "source": [
        "To exemplify the implementation steps, consider the simple graph shown in the following image with IRIs denoted in oval and literals denoted in dashed boxes (Colab image is not working).\n",
        "\n",
        "https://drive.google.com/uc?export=view&id=1NHAl72vWPRlFOiQet9bF5--VjxsQStIZ\n",
        "\n",
        "Consider that the graph also includes the following triples: \n",
        " (X, rdf:type, rdfs:Class), \n",
        " (Y, rdf:type, rdfs:Class), \n",
        " (Z, rdf:type, rdfs:Class)\n",
        " (x1, rdf:type, X), \n",
        " (x2, rdf:type, X), \n",
        " (y1, rdf:type, Y), \n",
        " (y2, rdf:type, Y),\n",
        " (z1, rdf:type, Z), \n",
        " (z2, rdf:type, Z), … (z10, rdf:type, Z)\n",
        "\n",
        "The example graph is stored as a n-triple file. Let's see how to load it with RDFLib.\n"
      ]
    },
    {
      "cell_type": "code",
      "metadata": {
        "id": "gbutqoZ7EYid",
        "colab_type": "code",
        "colab": {}
      },
      "source": [
        "pip install rdflib"
      ],
      "execution_count": null,
      "outputs": []
    },
    {
      "cell_type": "code",
      "metadata": {
        "id": "C89soOysERBq",
        "colab_type": "code",
        "colab": {}
      },
      "source": [
        "import rdflib\n",
        "\n",
        "g = rdflib.Graph()\n",
        "g.parse(\"https://raw.githubusercontent.com/elisasmenendez/inforank/master/example.ttl\", format=\"turtle\")\n",
        "\n",
        "g.bind(\"ex\", \"http://example.com/\")\n",
        "g.bind(\"quira\", \"http://quira.com/\")"
      ],
      "execution_count": 2,
      "outputs": []
    },
    {
      "cell_type": "markdown",
      "metadata": {
        "id": "jXyIpcXLL9lR",
        "colab_type": "text"
      },
      "source": [
        "And how to print all triples."
      ]
    },
    {
      "cell_type": "code",
      "metadata": {
        "id": "s3ieuQZ4B-Gn",
        "colab_type": "code",
        "colab": {}
      },
      "source": [
        "qres = g.query(\"select ?s ?p ?o where {?s ?p ?o }\",)\n",
        "\n",
        "for row in qres:\n",
        "  print (\"%s %s %s\" % row)"
      ],
      "execution_count": null,
      "outputs": []
    },
    {
      "cell_type": "markdown",
      "metadata": {
        "id": "4EtYWw2ELFA-",
        "colab_type": "text"
      },
      "source": [
        "# PageRank - The classic approach"
      ]
    },
    {
      "cell_type": "markdown",
      "metadata": {
        "id": "Ate1rTm6oOdu",
        "colab_type": "text"
      },
      "source": [
        "To achieve the classic PageRank score, we first need to compute the degree of the each instance."
      ]
    },
    {
      "cell_type": "code",
      "metadata": {
        "id": "yvU1gPP1oNnY",
        "colab_type": "code",
        "colab": {}
      },
      "source": [
        "# Computing the degree of instances\n",
        "g.update(\"\"\"\n",
        "insert { ?r quira:degree ?degree }\n",
        "where { \n",
        "  select ?r ((?out + ?in) as ?degree)\n",
        "  where {\n",
        "    {\n",
        "      select ?r (count(?o) as ?out)\n",
        "      where { \n",
        "        ?r rdf:type/rdf:type rdfs:Class .\n",
        "        OPTIONAL { \n",
        "          ?r ?p ?o . \n",
        "          ?o rdf:type/rdf:type rdfs:Class \n",
        "        }\n",
        "      }\n",
        "      group by ?r \n",
        "    }\n",
        "    {\n",
        "      select ?r (count(?o) as ?in)\n",
        "      where { \n",
        "        ?r rdf:type/rdf:type rdfs:Class .\n",
        "        OPTIONAL { \n",
        "          ?o ?p ?r . \n",
        "          ?o rdf:type/rdf:type rdfs:Class \n",
        "        }\n",
        "      }\n",
        "      group by ?r\n",
        "    }\n",
        "  }\n",
        "}\n",
        "\"\"\")"
      ],
      "execution_count": 3,
      "outputs": []
    },
    {
      "cell_type": "markdown",
      "metadata": {
        "id": "QKkfXAGOrEZM",
        "colab_type": "text"
      },
      "source": [
        "Now, we initialize the PageRank scores with *1/n*, in which *n* is the number of instances in the graph."
      ]
    },
    {
      "cell_type": "code",
      "metadata": {
        "id": "WGriXAk_eFKE",
        "colab_type": "code",
        "colab": {}
      },
      "source": [
        "# Counting the number of instances in the graph\n",
        "qres = g.query(\"\"\"\n",
        "select (count(*) as ?n)\n",
        "where { ?r rdf:type/rdf:type rdfs:Class }\n",
        "\"\"\")\n",
        "n = qres.bindings[0]['n']\n",
        "last = 'score1'\n",
        "curr = 'score2'\n",
        "\n",
        "# Initializing all scores with 1/N\n",
        "g.update(\"\"\"\n",
        "insert { ?r quira:%s ?score }\n",
        "where { \n",
        "  ?r rdf:type/rdf:type rdfs:Class .\n",
        "  BIND( (1/%s) as ?score )\n",
        "}\n",
        "\"\"\" % (last,n) )"
      ],
      "execution_count": 7,
      "outputs": []
    },
    {
      "cell_type": "markdown",
      "metadata": {
        "id": "KteTSwocULHi",
        "colab_type": "text"
      },
      "source": [
        "Finally, we execute the Power Iteration Method to compute PageRank."
      ]
    },
    {
      "cell_type": "code",
      "metadata": {
        "id": "4CTZ_FwgOhWW",
        "colab_type": "code",
        "colab": {}
      },
      "source": [
        "# This query simulates an iteration with a dumping factor of 0.85  \n",
        "queryIter = \"\"\"\n",
        "insert { ?r quira:%s ?score }\n",
        "where {\n",
        "  select ?r ((((1-0.85)/%s) + (0.85 * sum(?score/?degree))) as ?score)\n",
        "  where { \n",
        "    { select *\n",
        "      where {\n",
        "        ?r rdf:type/rdf:type rdfs:Class .\n",
        "        ?s ?p ?r .\n",
        "        ?s quira:%s ?score .\n",
        "        ?s quira:degree ?degree .\n",
        "      }\n",
        "    }\n",
        "    UNION\n",
        "    { select *\n",
        "      where {\n",
        "        ?r rdf:type/rdf:type rdfs:Class .\n",
        "        ?r ?p ?s .\n",
        "        ?s quira:%s ?score .\n",
        "        ?s quira:degree ?degree .\n",
        "      }\n",
        "    } \n",
        "  }\n",
        "  group by ?r\n",
        "}\n",
        "\"\"\"\n",
        "\n",
        "# This query simulates the convergence calculation \n",
        "queryConv = \"\"\"\n",
        "select (sum(abs(?curr - ?last)) as ?conv)\n",
        "where { \n",
        "  ?r quira:%s ?curr .\n",
        "  ?r quira:%s ?last . \n",
        "}\n",
        "\"\"\"\n",
        "\n",
        "# Executing the Power Iteration method\n",
        "tol = 1.0e-4\n",
        "max = 100\n",
        "converged = 0\n",
        "\n",
        "for i in range(max-1):\n",
        "  \n",
        "  # Iterating\n",
        "  g.update(queryIter % (curr, n, last, last))\n",
        "  \n",
        "  # Checking convergence\n",
        "  qres = g.query(queryConv % (curr, last))\n",
        "  conv = float(qres.bindings[0]['conv'])\n",
        "\n",
        "  #print(\"Iteration %s - Convergence %s\" % (i, conv))  \n",
        "\n",
        "  if conv < tol:\n",
        "    converged = 1\n",
        "    g.update(\"insert { ?r quira:pagerank ?score } where { ?r quira:%s ?score }\" % curr)\n",
        "    g.update(\"delete where { ?s quira:%s ?o }\" % last)\n",
        "    g.update(\"delete where { ?s quira:%s ?o }\" % curr)\n",
        "    print(\"Converged after %s iterations\" % i) \n",
        "    break\n",
        "  else:\n",
        "    g.update(\"delete where { ?s quira:%s ?o }\" % last)\n",
        "    temp = last\n",
        "    last = curr\n",
        "    curr = temp\n",
        "\n",
        "if converged == 0:\n",
        "  print(\"Failed to converge after %s iterations\" % i) "
      ],
      "execution_count": null,
      "outputs": []
    },
    {
      "cell_type": "markdown",
      "metadata": {
        "id": "qPw4TkphjJf3",
        "colab_type": "text"
      },
      "source": [
        "Check the results"
      ]
    },
    {
      "cell_type": "code",
      "metadata": {
        "id": "pNs4fz9vxpIy",
        "colab_type": "code",
        "colab": {}
      },
      "source": [
        "qres = g.query(\"\"\"\n",
        "select ?r ?score\n",
        "where {?r quira:pagerank ?score }  \n",
        "order by desc(?score)\n",
        "\"\"\")\n",
        "\n",
        "for row in qres:\n",
        "  print (\"%s %s\" % row)"
      ],
      "execution_count": null,
      "outputs": []
    },
    {
      "cell_type": "markdown",
      "metadata": {
        "id": "oEu4YV56lAud",
        "colab_type": "text"
      },
      "source": [
        "Compare with the result given by Networkx"
      ]
    },
    {
      "cell_type": "code",
      "metadata": {
        "id": "ui8pFcrRlE2m",
        "colab_type": "code",
        "colab": {}
      },
      "source": [
        "import networkx as nx\n",
        "import operator\n",
        "\n",
        "edges = [\n",
        "  ('X1', 'Y1'),\n",
        "  ('X2', 'Y1'),\n",
        "  ('Y2', 'Y1'),\n",
        "  ('Z1', 'Y2'),\n",
        "  ('Z2', 'Y2'),\n",
        "  ('Z3', 'Y2'),\n",
        "  ('Z4', 'Y2'),\n",
        "  ('Z5', 'Y2'),\n",
        "  ('Z6', 'Y2'),\n",
        "  ('Z7', 'Y2'),\n",
        "  ('Z8', 'Y2'),\n",
        "  ('Z9', 'Y2'),\n",
        "  ('Z10', 'Y2')]\n",
        "\n",
        "G = nx.Graph()  \n",
        "G.add_edges_from(edges)  \n",
        "\n",
        "res = nx.pagerank(G)\n",
        "\n",
        "sorted_res = sorted(res.items(), key=operator.itemgetter(1), reverse=True)  \n",
        "for i,j in sorted_res:\n",
        "  print(i + \" - \" + str(j))\n"
      ],
      "execution_count": null,
      "outputs": []
    }
  ]
}